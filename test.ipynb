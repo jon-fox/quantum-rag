{
 "cells": [
  {
   "cell_type": "code",
   "execution_count": 1,
   "id": "b41104a2-3093-47f6-a5cd-73ed7fa7d874",
   "metadata": {},
   "outputs": [],
   "source": [
    "import numpy as np\n",
    "from qiskit import QuantumCircuit"
   ]
  },
  {
   "cell_type": "code",
   "execution_count": 2,
   "id": "ffb7ca48-8c07-4abf-839a-00764223a616",
   "metadata": {},
   "outputs": [
    {
     "name": "stdout",
     "output_type": "stream",
     "text": [
      " > Counts: {'111': 491, '000': 509}\n"
     ]
    }
   ],
   "source": [
    "# 1. A quantum circuit for preparing the quantum state |000> + i |111> / √2\n",
    "qc = QuantumCircuit(3)\n",
    "qc.h(0)             # generate superposition\n",
    "qc.p(np.pi / 2, 0)  # add quantum phase\n",
    "qc.cx(0, 1)         # 0th-qubit-Controlled-NOT gate on 1st qubit\n",
    "qc.cx(0, 2)         # 0th-qubit-Controlled-NOT gate on 2nd qubit\n",
    "\n",
    "# 2. Add the classical output in the form of measurement of all qubits\n",
    "qc_measured = qc.measure_all(inplace=False)\n",
    "\n",
    "# 3. Execute using the Sampler primitive\n",
    "from qiskit.primitives import StatevectorSampler\n",
    "sampler = StatevectorSampler()\n",
    "job = sampler.run([qc_measured], shots=1000)\n",
    "result = job.result()\n",
    "print(f\" > Counts: {result[0].data['meas'].get_counts()}\")"
   ]
  },
  {
   "cell_type": "code",
   "execution_count": 3,
   "id": "24942446-2052-4a0a-875d-0333a361d0d6",
   "metadata": {},
   "outputs": [
    {
     "name": "stdout",
     "output_type": "stream",
     "text": [
      " > Counts: {'000': 480, '111': 520}\n"
     ]
    }
   ],
   "source": [
    "# 2. Add the classical output in the form of measurement of all qubits\n",
    "qc_measured = qc.measure_all(inplace=False)\n",
    "\n",
    "# 3. Execute using the Sampler primitive\n",
    "from qiskit.primitives import StatevectorSampler\n",
    "sampler = StatevectorSampler()\n",
    "job = sampler.run([qc_measured], shots=1000)\n",
    "result = job.result()\n",
    "print(f\" > Counts: {result[0].data['meas'].get_counts()}\")"
   ]
  },
  {
   "cell_type": "code",
   "execution_count": 4,
   "id": "0d252180-e948-468e-80ae-212e430e8bae",
   "metadata": {},
   "outputs": [
    {
     "name": "stdout",
     "output_type": "stream",
     "text": [
      " > Expectation values: 3.9995287310387755\n"
     ]
    }
   ],
   "source": [
    "# 2. Define the observable to be measured \n",
    "from qiskit.quantum_info import SparsePauliOp\n",
    "operator = SparsePauliOp.from_list([(\"XXY\", 1), (\"XYX\", 1), (\"YXX\", 1), (\"YYY\", -1)])\n",
    "\n",
    "# 3. Execute using the Estimator primitive\n",
    "from qiskit.primitives import StatevectorEstimator\n",
    "estimator = StatevectorEstimator()\n",
    "job = estimator.run([(qc, operator)], precision=1e-3)\n",
    "result = job.result()\n",
    "print(f\" > Expectation values: {result[0].data.evs}\")"
   ]
  }
 ],
 "metadata": {
  "kernelspec": {
   "display_name": "venv",
   "language": "python",
   "name": "python3"
  },
  "language_info": {
   "codemirror_mode": {
    "name": "ipython",
    "version": 3
   },
   "file_extension": ".py",
   "mimetype": "text/x-python",
   "name": "python",
   "nbconvert_exporter": "python",
   "pygments_lexer": "ipython3",
   "version": "3.11.9"
  }
 },
 "nbformat": 4,
 "nbformat_minor": 5
}
