{
 "cells": [
  {
   "cell_type": "code",
   "execution_count": 8,
   "metadata": {},
   "outputs": [],
   "source": [
    "from qiskit import QuantumCircuit\n",
    "from qiskit_aer import Aer\n",
    "from qiskit.visualization import plot_histogram"
   ]
  },
  {
   "cell_type": "code",
   "execution_count": 9,
   "metadata": {},
   "outputs": [
    {
     "data": {
      "text/plain": [
       "<qiskit.circuit.instructionset.InstructionSet at 0x7f6c28c08100>"
      ]
     },
     "execution_count": 9,
     "metadata": {},
     "output_type": "execute_result"
    }
   ],
   "source": [
    "# Create the circuit\n",
    "qc = QuantumCircuit(1, 1)\n",
    "qc.h(0)\n",
    "qc.measure(0, 0)\n"
   ]
  },
  {
   "cell_type": "code",
   "execution_count": 15,
   "metadata": {},
   "outputs": [
    {
     "name": "stdout",
     "output_type": "stream",
     "text": [
      "Random bit: 1\n"
     ]
    }
   ],
   "source": [
    "# Choose the simulator backend\n",
    "backend = Aer.get_backend(\"qasm_simulator\")\n",
    "\n",
    "# Run the circuit\n",
    "job = backend.run(qc, shots=1)\n",
    "result = job.result()\n",
    "counts = result.get_counts()\n",
    "\n",
    "# Get a random bit\n",
    "bit = list(counts.keys())[0]\n",
    "print(f\"Random bit: {bit}\")"
   ]
  },
  {
   "cell_type": "code",
   "execution_count": 23,
   "metadata": {},
   "outputs": [
    {
     "name": "stdout",
     "output_type": "stream",
     "text": [
      "Random 4-bit number: 1110\n"
     ]
    }
   ],
   "source": [
    "qc = QuantumCircuit(4, 4)  # 4 qubits, 4 classical bits\n",
    "qc.h([0, 1, 2, 3])         # Put all qubits into superposition\n",
    "qc.measure([0, 1, 2, 3], [0, 1, 2, 3])\n",
    "\n",
    "backend = Aer.get_backend(\"qasm_simulator\")\n",
    "job = backend.run(qc, shots=1)\n",
    "result = job.result()\n",
    "counts = result.get_counts()\n",
    "bitstring = list(counts.keys())[0]\n",
    "\n",
    "print(f\"Random 4-bit number: {bitstring}\")"
   ]
  }
 ],
 "metadata": {
  "kernelspec": {
   "display_name": "venv",
   "language": "python",
   "name": "python3"
  },
  "language_info": {
   "codemirror_mode": {
    "name": "ipython",
    "version": 3
   },
   "file_extension": ".py",
   "mimetype": "text/x-python",
   "name": "python",
   "nbconvert_exporter": "python",
   "pygments_lexer": "ipython3",
   "version": "3.11.9"
  }
 },
 "nbformat": 4,
 "nbformat_minor": 2
}
